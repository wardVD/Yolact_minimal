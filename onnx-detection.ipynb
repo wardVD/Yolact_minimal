{
 "cells": [
  {
   "cell_type": "code",
   "execution_count": 17,
   "id": "9fdc36ab-ad5e-41da-909d-f46c88145bf5",
   "metadata": {},
   "outputs": [
    {
     "name": "stdout",
     "output_type": "stream",
     "text": [
      "\n",
      "-----No GPU found, validate on CPU.-----\n",
      "\n",
      "------------------------------swin_tiny_coco------------------------------\n",
      "mode: detect\n",
      "cuda: False\n",
      "gpu_id: None\n",
      "img_size: 544\n",
      "class_names: ('rock/cloth-poly', 'potato-poly')\n",
      "num_classes: 3\n",
      "scales: [24, 48, 96, 192, 384]\n",
      "aspect_ratios: [1, 0.5, 2]\n",
      "weight: weights/keepbest_12.21_swin_tiny_coco_1150.pth\n",
      "traditional_nms: False\n",
      "nms_score_thre: 0.05\n",
      "nms_iou_thre: 0.5\n",
      "top_k: 200\n",
      "max_detections: 100\n",
      "\n"
     ]
    }
   ],
   "source": [
    "import torch.utils.data as data\n",
    "import argparse\n",
    "import re\n",
    "from utils.coco import COCODetection, detect_onnx_collate\n",
    "from config import get_config\n",
    "\n",
    "class Args:\n",
    "    weight = 'weights/keepbest_12.21_swin_tiny_coco_1150.pth'\n",
    "    image = 'data/dewulf_resized/images_val/20211013133809_NM_0302547_0161155484_1280_0720_25_04194304_0000000deroo-265_08_2109160002_04_206_0000000_V02_000_E02_0_f_270.jpg'\n",
    "    img_size = 544\n",
    "    traditional_nms = False\n",
    "    \n",
    "args=Args()\n",
    "\n",
    "prefix = re.findall(r'best_\\d+\\.\\d+_', args.weight)[0]\n",
    "suffix = re.findall(r'_\\d+\\.pth', args.weight)[0]\n",
    "args.cfg = args.weight.split(prefix)[-1].split(suffix)[0]\n",
    "\n",
    "cfg = get_config(args, mode='detect')\n"
   ]
  },
  {
   "cell_type": "code",
   "execution_count": 18,
   "id": "d1da1c92-9ed1-4986-abba-fddba4b8bb6b",
   "metadata": {},
   "outputs": [
    {
     "ename": "AttributeError",
     "evalue": "'swin_tiny_coco' object has no attribute 'image'",
     "output_type": "error",
     "traceback": [
      "\u001b[0;31m---------------------------------------------------------------------------\u001b[0m",
      "\u001b[0;31mAttributeError\u001b[0m                            Traceback (most recent call last)",
      "\u001b[0;32m/tmp/ipykernel_24984/1613924932.py\u001b[0m in \u001b[0;36m<module>\u001b[0;34m\u001b[0m\n\u001b[0;32m----> 1\u001b[0;31m \u001b[0mdataset\u001b[0m \u001b[0;34m=\u001b[0m \u001b[0mCOCODetection\u001b[0m\u001b[0;34m(\u001b[0m\u001b[0mcfg\u001b[0m\u001b[0;34m,\u001b[0m \u001b[0mmode\u001b[0m\u001b[0;34m=\u001b[0m\u001b[0;34m'detect'\u001b[0m\u001b[0;34m)\u001b[0m\u001b[0;34m\u001b[0m\u001b[0;34m\u001b[0m\u001b[0m\n\u001b[0m\u001b[1;32m      2\u001b[0m \u001b[0;34m\u001b[0m\u001b[0m\n\u001b[1;32m      3\u001b[0m data_loader = data.DataLoader(dataset, 1, num_workers=4, shuffle=False,\n\u001b[1;32m      4\u001b[0m                               pin_memory=True, collate_fn=detect_onnx_collate)\n",
      "\u001b[0;32m~/Yolact_minimal/utils/coco.py\u001b[0m in \u001b[0;36m__init__\u001b[0;34m(self, cfg, mode)\u001b[0m\n\u001b[1;32m     55\u001b[0m             \u001b[0mself\u001b[0m\u001b[0;34m.\u001b[0m\u001b[0mids\u001b[0m \u001b[0;34m=\u001b[0m \u001b[0mlist\u001b[0m\u001b[0;34m(\u001b[0m\u001b[0mself\u001b[0m\u001b[0;34m.\u001b[0m\u001b[0mcoco\u001b[0m\u001b[0;34m.\u001b[0m\u001b[0mimgToAnns\u001b[0m\u001b[0;34m.\u001b[0m\u001b[0mkeys\u001b[0m\u001b[0;34m(\u001b[0m\u001b[0;34m)\u001b[0m\u001b[0;34m)\u001b[0m\u001b[0;34m\u001b[0m\u001b[0;34m\u001b[0m\u001b[0m\n\u001b[1;32m     56\u001b[0m         \u001b[0;32melif\u001b[0m \u001b[0mmode\u001b[0m \u001b[0;34m==\u001b[0m \u001b[0;34m'detect'\u001b[0m\u001b[0;34m:\u001b[0m\u001b[0;34m\u001b[0m\u001b[0;34m\u001b[0m\u001b[0m\n\u001b[0;32m---> 57\u001b[0;31m             \u001b[0mself\u001b[0m\u001b[0;34m.\u001b[0m\u001b[0mimage_path\u001b[0m \u001b[0;34m=\u001b[0m \u001b[0mglob\u001b[0m\u001b[0;34m.\u001b[0m\u001b[0mglob\u001b[0m\u001b[0;34m(\u001b[0m\u001b[0mcfg\u001b[0m\u001b[0;34m.\u001b[0m\u001b[0mimage\u001b[0m \u001b[0;34m+\u001b[0m \u001b[0;34m'/*.jpg'\u001b[0m\u001b[0;34m)\u001b[0m\u001b[0;34m\u001b[0m\u001b[0;34m\u001b[0m\u001b[0m\n\u001b[0m\u001b[1;32m     58\u001b[0m             \u001b[0mself\u001b[0m\u001b[0;34m.\u001b[0m\u001b[0mimage_path\u001b[0m\u001b[0;34m.\u001b[0m\u001b[0msort\u001b[0m\u001b[0;34m(\u001b[0m\u001b[0;34m)\u001b[0m\u001b[0;34m\u001b[0m\u001b[0;34m\u001b[0m\u001b[0m\n\u001b[1;32m     59\u001b[0m \u001b[0;34m\u001b[0m\u001b[0m\n",
      "\u001b[0;31mAttributeError\u001b[0m: 'swin_tiny_coco' object has no attribute 'image'"
     ]
    }
   ],
   "source": [
    "dataset = COCODetection(cfg, mode='detect')\n",
    "\n",
    "data_loader = data.DataLoader(dataset, 1, num_workers=4, shuffle=False,\n",
    "                              pin_memory=True, collate_fn=detect_onnx_collate)"
   ]
  },
  {
   "cell_type": "code",
   "execution_count": 5,
   "id": "668d3cbe-b000-4411-b64a-1f543d078cdb",
   "metadata": {},
   "outputs": [
    {
     "name": "stdout",
     "output_type": "stream",
     "text": [
      "Object `data.Dataloader` not found.\n"
     ]
    }
   ],
   "source": [
    "data.Dataloade"
   ]
  },
  {
   "cell_type": "code",
   "execution_count": null,
   "id": "c77e11ac-e29b-4893-8233-1ab361613d74",
   "metadata": {},
   "outputs": [],
   "source": []
  }
 ],
 "metadata": {
  "environment": {
   "kernel": "python3",
   "name": "pytorch-gpu.1-11.m91",
   "type": "gcloud",
   "uri": "gcr.io/deeplearning-platform-release/pytorch-gpu.1-11:m91"
  },
  "kernelspec": {
   "display_name": "Python 3",
   "language": "python",
   "name": "python3"
  },
  "language_info": {
   "codemirror_mode": {
    "name": "ipython",
    "version": 3
   },
   "file_extension": ".py",
   "mimetype": "text/x-python",
   "name": "python",
   "nbconvert_exporter": "python",
   "pygments_lexer": "ipython3",
   "version": "3.7.12"
  }
 },
 "nbformat": 4,
 "nbformat_minor": 5
}
